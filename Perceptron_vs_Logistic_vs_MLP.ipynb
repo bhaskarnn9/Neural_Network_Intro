{
 "cells": [
  {
   "cell_type": "code",
   "execution_count": 1,
   "metadata": {},
   "outputs": [
    {
     "name": "stdout",
     "output_type": "stream",
     "text": [
      "(768, 9)\n"
     ]
    },
    {
     "data": {
      "text/html": [
       "<div>\n",
       "<style scoped>\n",
       "    .dataframe tbody tr th:only-of-type {\n",
       "        vertical-align: middle;\n",
       "    }\n",
       "\n",
       "    .dataframe tbody tr th {\n",
       "        vertical-align: top;\n",
       "    }\n",
       "\n",
       "    .dataframe thead th {\n",
       "        text-align: right;\n",
       "    }\n",
       "</style>\n",
       "<table border=\"1\" class=\"dataframe\">\n",
       "  <thead>\n",
       "    <tr style=\"text-align: right;\">\n",
       "      <th></th>\n",
       "      <th>PregnantFreq</th>\n",
       "      <th>PlasmaGlucose</th>\n",
       "      <th>DiastolicBP</th>\n",
       "      <th>TricepSkinThickness</th>\n",
       "      <th>SerumInsulin</th>\n",
       "      <th>BMI</th>\n",
       "      <th>DiabetesPedigree</th>\n",
       "      <th>Age</th>\n",
       "      <th>Target</th>\n",
       "    </tr>\n",
       "  </thead>\n",
       "  <tbody>\n",
       "    <tr>\n",
       "      <th>0</th>\n",
       "      <td>6.0</td>\n",
       "      <td>148.0</td>\n",
       "      <td>72.0</td>\n",
       "      <td>35.00000</td>\n",
       "      <td>155.548223</td>\n",
       "      <td>33.6</td>\n",
       "      <td>0.627</td>\n",
       "      <td>50</td>\n",
       "      <td>1</td>\n",
       "    </tr>\n",
       "    <tr>\n",
       "      <th>1</th>\n",
       "      <td>1.0</td>\n",
       "      <td>85.0</td>\n",
       "      <td>66.0</td>\n",
       "      <td>29.00000</td>\n",
       "      <td>155.548223</td>\n",
       "      <td>26.6</td>\n",
       "      <td>0.351</td>\n",
       "      <td>31</td>\n",
       "      <td>0</td>\n",
       "    </tr>\n",
       "    <tr>\n",
       "      <th>2</th>\n",
       "      <td>8.0</td>\n",
       "      <td>183.0</td>\n",
       "      <td>64.0</td>\n",
       "      <td>29.15342</td>\n",
       "      <td>155.548223</td>\n",
       "      <td>23.3</td>\n",
       "      <td>0.672</td>\n",
       "      <td>32</td>\n",
       "      <td>1</td>\n",
       "    </tr>\n",
       "    <tr>\n",
       "      <th>3</th>\n",
       "      <td>1.0</td>\n",
       "      <td>89.0</td>\n",
       "      <td>66.0</td>\n",
       "      <td>23.00000</td>\n",
       "      <td>94.000000</td>\n",
       "      <td>28.1</td>\n",
       "      <td>0.167</td>\n",
       "      <td>21</td>\n",
       "      <td>0</td>\n",
       "    </tr>\n",
       "    <tr>\n",
       "      <th>4</th>\n",
       "      <td>0.0</td>\n",
       "      <td>137.0</td>\n",
       "      <td>40.0</td>\n",
       "      <td>35.00000</td>\n",
       "      <td>168.000000</td>\n",
       "      <td>43.1</td>\n",
       "      <td>2.288</td>\n",
       "      <td>33</td>\n",
       "      <td>1</td>\n",
       "    </tr>\n",
       "  </tbody>\n",
       "</table>\n",
       "</div>"
      ],
      "text/plain": [
       "   PregnantFreq  PlasmaGlucose  DiastolicBP  TricepSkinThickness  \\\n",
       "0           6.0          148.0         72.0             35.00000   \n",
       "1           1.0           85.0         66.0             29.00000   \n",
       "2           8.0          183.0         64.0             29.15342   \n",
       "3           1.0           89.0         66.0             23.00000   \n",
       "4           0.0          137.0         40.0             35.00000   \n",
       "\n",
       "   SerumInsulin   BMI  DiabetesPedigree  Age  Target  \n",
       "0    155.548223  33.6             0.627   50       1  \n",
       "1    155.548223  26.6             0.351   31       0  \n",
       "2    155.548223  23.3             0.672   32       1  \n",
       "3     94.000000  28.1             0.167   21       0  \n",
       "4    168.000000  43.1             2.288   33       1  "
      ]
     },
     "execution_count": 1,
     "metadata": {},
     "output_type": "execute_result"
    }
   ],
   "source": [
    "## Reading the dataset\n",
    "import warnings\n",
    "warnings.filterwarnings('ignore')\n",
    "import pandas as pd\n",
    "diabetes = pd.read_csv(\"processed_diabetes.csv\")\n",
    "print(diabetes.shape)\n",
    "diabetes.head()"
   ]
  },
  {
   "cell_type": "code",
   "execution_count": 2,
   "metadata": {},
   "outputs": [
    {
     "data": {
      "text/plain": [
       "(768, 9)"
      ]
     },
     "execution_count": 2,
     "metadata": {},
     "output_type": "execute_result"
    }
   ],
   "source": [
    "diabetes.shape"
   ]
  },
  {
   "cell_type": "markdown",
   "metadata": {},
   "source": [
    "### Decoupling \"Target\""
   ]
  },
  {
   "cell_type": "code",
   "execution_count": 3,
   "metadata": {},
   "outputs": [],
   "source": [
    "X = diabetes.loc[:,diabetes.columns.difference(['Target'])]\n",
    "y = diabetes['Target']"
   ]
  },
  {
   "cell_type": "code",
   "execution_count": 4,
   "metadata": {},
   "outputs": [
    {
     "data": {
      "text/plain": [
       "0    500\n",
       "1    268\n",
       "Name: Target, dtype: int64"
      ]
     },
     "execution_count": 4,
     "metadata": {},
     "output_type": "execute_result"
    }
   ],
   "source": [
    "y.value_counts()"
   ]
  },
  {
   "cell_type": "markdown",
   "metadata": {},
   "source": [
    "### Train-Test split"
   ]
  },
  {
   "cell_type": "code",
   "execution_count": 5,
   "metadata": {},
   "outputs": [],
   "source": [
    "from sklearn.model_selection import train_test_split\n",
    "X_train, X_test, y_train, y_test = train_test_split(X, y, test_size = 0.3, random_state=2324)"
   ]
  },
  {
   "cell_type": "markdown",
   "metadata": {},
   "source": [
    "### Standardizing independent variables"
   ]
  },
  {
   "cell_type": "code",
   "execution_count": 6,
   "metadata": {},
   "outputs": [],
   "source": [
    "from sklearn.preprocessing import StandardScaler\n",
    "scaler = StandardScaler()\n",
    "scaler.fit(X_train)\n",
    "\n",
    "X_train_std = pd.DataFrame(scaler.transform(X_train), columns=X_train.columns, index=X_train.index)\n",
    "X_test_std = pd.DataFrame(scaler.transform(X_test), columns=X_test.columns, index=X_test.index)"
   ]
  },
  {
   "cell_type": "markdown",
   "metadata": {},
   "source": [
    "### Checking summary statistics to verify standardization"
   ]
  },
  {
   "cell_type": "code",
   "execution_count": 7,
   "metadata": {},
   "outputs": [
    {
     "data": {
      "text/html": [
       "<div>\n",
       "<style scoped>\n",
       "    .dataframe tbody tr th:only-of-type {\n",
       "        vertical-align: middle;\n",
       "    }\n",
       "\n",
       "    .dataframe tbody tr th {\n",
       "        vertical-align: top;\n",
       "    }\n",
       "\n",
       "    .dataframe thead th {\n",
       "        text-align: right;\n",
       "    }\n",
       "</style>\n",
       "<table border=\"1\" class=\"dataframe\">\n",
       "  <thead>\n",
       "    <tr style=\"text-align: right;\">\n",
       "      <th></th>\n",
       "      <th>Age</th>\n",
       "      <th>BMI</th>\n",
       "      <th>DiabetesPedigree</th>\n",
       "      <th>DiastolicBP</th>\n",
       "      <th>PlasmaGlucose</th>\n",
       "      <th>PregnantFreq</th>\n",
       "      <th>SerumInsulin</th>\n",
       "      <th>TricepSkinThickness</th>\n",
       "    </tr>\n",
       "  </thead>\n",
       "  <tbody>\n",
       "    <tr>\n",
       "      <th>count</th>\n",
       "      <td>5.370000e+02</td>\n",
       "      <td>5.370000e+02</td>\n",
       "      <td>5.370000e+02</td>\n",
       "      <td>5.370000e+02</td>\n",
       "      <td>5.370000e+02</td>\n",
       "      <td>5.370000e+02</td>\n",
       "      <td>5.370000e+02</td>\n",
       "      <td>5.370000e+02</td>\n",
       "    </tr>\n",
       "    <tr>\n",
       "      <th>mean</th>\n",
       "      <td>-1.587805e-16</td>\n",
       "      <td>-1.637424e-16</td>\n",
       "      <td>-4.631098e-17</td>\n",
       "      <td>-1.111463e-15</td>\n",
       "      <td>-4.300305e-16</td>\n",
       "      <td>-9.923781e-18</td>\n",
       "      <td>-2.977134e-16</td>\n",
       "      <td>-5.954269e-17</td>\n",
       "    </tr>\n",
       "    <tr>\n",
       "      <th>std</th>\n",
       "      <td>1.000932e+00</td>\n",
       "      <td>1.000932e+00</td>\n",
       "      <td>1.000932e+00</td>\n",
       "      <td>1.000932e+00</td>\n",
       "      <td>1.000932e+00</td>\n",
       "      <td>1.000932e+00</td>\n",
       "      <td>1.000932e+00</td>\n",
       "      <td>1.000932e+00</td>\n",
       "    </tr>\n",
       "    <tr>\n",
       "      <th>min</th>\n",
       "      <td>-1.062535e+00</td>\n",
       "      <td>-2.073153e+00</td>\n",
       "      <td>-1.182553e+00</td>\n",
       "      <td>-3.901109e+00</td>\n",
       "      <td>-2.189812e+00</td>\n",
       "      <td>-1.173398e+00</td>\n",
       "      <td>-1.706697e+00</td>\n",
       "      <td>-2.515918e+00</td>\n",
       "    </tr>\n",
       "    <tr>\n",
       "      <th>25%</th>\n",
       "      <td>-8.115833e-01</td>\n",
       "      <td>-7.028923e-01</td>\n",
       "      <td>-6.943776e-01</td>\n",
       "      <td>-7.011507e-01</td>\n",
       "      <td>-7.144832e-01</td>\n",
       "      <td>-8.770130e-01</td>\n",
       "      <td>-4.045946e-01</td>\n",
       "      <td>-4.856906e-01</td>\n",
       "    </tr>\n",
       "    <tr>\n",
       "      <th>50%</th>\n",
       "      <td>-3.096790e-01</td>\n",
       "      <td>-1.776200e-02</td>\n",
       "      <td>-3.153598e-01</td>\n",
       "      <td>-2.874464e-02</td>\n",
       "      <td>-1.444700e-01</td>\n",
       "      <td>-2.842427e-01</td>\n",
       "      <td>3.623793e-02</td>\n",
       "      <td>-1.722467e-02</td>\n",
       "    </tr>\n",
       "    <tr>\n",
       "      <th>75%</th>\n",
       "      <td>6.104789e-01</td>\n",
       "      <td>6.090594e-01</td>\n",
       "      <td>5.245437e-01</td>\n",
       "      <td>5.788328e-01</td>\n",
       "      <td>6.267244e-01</td>\n",
       "      <td>6.049127e-01</td>\n",
       "      <td>3.623793e-02</td>\n",
       "      <td>3.038423e-01</td>\n",
       "    </tr>\n",
       "    <tr>\n",
       "      <th>max</th>\n",
       "      <td>3.956507e+00</td>\n",
       "      <td>5.055118e+00</td>\n",
       "      <td>5.624608e+00</td>\n",
       "      <td>3.298798e+00</td>\n",
       "      <td>2.537945e+00</td>\n",
       "      <td>3.865149e+00</td>\n",
       "      <td>8.598512e+00</td>\n",
       "      <td>7.860800e+00</td>\n",
       "    </tr>\n",
       "  </tbody>\n",
       "</table>\n",
       "</div>"
      ],
      "text/plain": [
       "                Age           BMI  DiabetesPedigree   DiastolicBP  \\\n",
       "count  5.370000e+02  5.370000e+02      5.370000e+02  5.370000e+02   \n",
       "mean  -1.587805e-16 -1.637424e-16     -4.631098e-17 -1.111463e-15   \n",
       "std    1.000932e+00  1.000932e+00      1.000932e+00  1.000932e+00   \n",
       "min   -1.062535e+00 -2.073153e+00     -1.182553e+00 -3.901109e+00   \n",
       "25%   -8.115833e-01 -7.028923e-01     -6.943776e-01 -7.011507e-01   \n",
       "50%   -3.096790e-01 -1.776200e-02     -3.153598e-01 -2.874464e-02   \n",
       "75%    6.104789e-01  6.090594e-01      5.245437e-01  5.788328e-01   \n",
       "max    3.956507e+00  5.055118e+00      5.624608e+00  3.298798e+00   \n",
       "\n",
       "       PlasmaGlucose  PregnantFreq  SerumInsulin  TricepSkinThickness  \n",
       "count   5.370000e+02  5.370000e+02  5.370000e+02         5.370000e+02  \n",
       "mean   -4.300305e-16 -9.923781e-18 -2.977134e-16        -5.954269e-17  \n",
       "std     1.000932e+00  1.000932e+00  1.000932e+00         1.000932e+00  \n",
       "min    -2.189812e+00 -1.173398e+00 -1.706697e+00        -2.515918e+00  \n",
       "25%    -7.144832e-01 -8.770130e-01 -4.045946e-01        -4.856906e-01  \n",
       "50%    -1.444700e-01 -2.842427e-01  3.623793e-02        -1.722467e-02  \n",
       "75%     6.267244e-01  6.049127e-01  3.623793e-02         3.038423e-01  \n",
       "max     2.537945e+00  3.865149e+00  8.598512e+00         7.860800e+00  "
      ]
     },
     "execution_count": 7,
     "metadata": {},
     "output_type": "execute_result"
    }
   ],
   "source": [
    "X_train_std.describe()"
   ]
  },
  {
   "cell_type": "markdown",
   "metadata": {},
   "source": [
    "### Building a perceptron (single layer - single node)"
   ]
  },
  {
   "cell_type": "code",
   "execution_count": 8,
   "metadata": {},
   "outputs": [
    {
     "name": "stdout",
     "output_type": "stream",
     "text": [
      "Epoch 1/200\n",
      "34/34 [==============================] - 0s 6ms/step - loss: 18.6648 - accuracy: 0.4618 - val_loss: 15.4218 - val_accuracy: 0.4329 - lr: 0.0100\n",
      "Epoch 2/200\n",
      "34/34 [==============================] - 0s 2ms/step - loss: 11.6646 - accuracy: 0.4991 - val_loss: 14.0009 - val_accuracy: 0.4026 - lr: 0.0100\n",
      "Epoch 3/200\n",
      "34/34 [==============================] - 0s 2ms/step - loss: 10.4769 - accuracy: 0.4786 - val_loss: 11.4441 - val_accuracy: 0.4242 - lr: 0.0100\n",
      "Epoch 4/200\n",
      "34/34 [==============================] - 0s 2ms/step - loss: 8.5894 - accuracy: 0.4823 - val_loss: 9.3913 - val_accuracy: 0.3983 - lr: 0.0100\n",
      "Epoch 5/200\n",
      "34/34 [==============================] - 0s 2ms/step - loss: 6.6512 - accuracy: 0.4842 - val_loss: 7.1150 - val_accuracy: 0.3983 - lr: 0.0100\n",
      "Epoch 6/200\n",
      "34/34 [==============================] - 0s 2ms/step - loss: 5.0076 - accuracy: 0.4730 - val_loss: 5.3001 - val_accuracy: 0.3463 - lr: 0.0100\n",
      "Epoch 7/200\n",
      "34/34 [==============================] - 0s 2ms/step - loss: 3.5985 - accuracy: 0.4469 - val_loss: 3.7395 - val_accuracy: 0.3030 - lr: 0.0100\n",
      "Epoch 8/200\n",
      "34/34 [==============================] - 0s 2ms/step - loss: 2.4894 - accuracy: 0.4916 - val_loss: 2.4538 - val_accuracy: 0.5325 - lr: 0.0100\n",
      "Epoch 9/200\n",
      "34/34 [==============================] - 0s 2ms/step - loss: 1.5787 - accuracy: 0.4413 - val_loss: 1.3244 - val_accuracy: 0.4978 - lr: 0.0100\n",
      "Epoch 10/200\n",
      "34/34 [==============================] - 0s 2ms/step - loss: 0.9886 - accuracy: 0.4749 - val_loss: 0.7742 - val_accuracy: 0.5108 - lr: 0.0100\n",
      "Epoch 11/200\n",
      "34/34 [==============================] - 0s 2ms/step - loss: 0.7196 - accuracy: 0.5866 - val_loss: 0.6073 - val_accuracy: 0.6926 - lr: 0.0100\n",
      "Epoch 12/200\n",
      "34/34 [==============================] - 0s 2ms/step - loss: 0.7742 - accuracy: 0.5996 - val_loss: 0.5929 - val_accuracy: 0.6840 - lr: 0.0100\n",
      "Epoch 13/200\n",
      "34/34 [==============================] - 0s 2ms/step - loss: 0.6416 - accuracy: 0.6741 - val_loss: 0.6144 - val_accuracy: 0.6450 - lr: 0.0100\n",
      "Epoch 14/200\n",
      "34/34 [==============================] - 0s 2ms/step - loss: 0.6398 - accuracy: 0.6723 - val_loss: 0.6888 - val_accuracy: 0.5931 - lr: 0.0100\n",
      "Epoch 15/200\n",
      "34/34 [==============================] - 0s 2ms/step - loss: 0.6478 - accuracy: 0.6629 - val_loss: 0.5748 - val_accuracy: 0.7359 - lr: 0.0100\n",
      "Epoch 16/200\n",
      "34/34 [==============================] - 0s 2ms/step - loss: 0.8099 - accuracy: 0.6257 - val_loss: 0.6920 - val_accuracy: 0.6710 - lr: 0.0100\n",
      "Epoch 17/200\n",
      "34/34 [==============================] - 0s 2ms/step - loss: 0.6897 - accuracy: 0.6480 - val_loss: 0.5923 - val_accuracy: 0.7100 - lr: 0.0100\n",
      "Epoch 18/200\n",
      "34/34 [==============================] - 0s 2ms/step - loss: 0.6655 - accuracy: 0.6574 - val_loss: 0.8119 - val_accuracy: 0.6537 - lr: 0.0100\n",
      "Epoch 19/200\n",
      "34/34 [==============================] - 0s 2ms/step - loss: 0.7050 - accuracy: 0.6499 - val_loss: 0.6085 - val_accuracy: 0.6753 - lr: 0.0100\n",
      "Epoch 20/200\n",
      "34/34 [==============================] - 0s 2ms/step - loss: 0.6290 - accuracy: 0.6685 - val_loss: 0.5458 - val_accuracy: 0.7359 - lr: 0.0100\n",
      "Epoch 21/200\n",
      "34/34 [==============================] - 0s 2ms/step - loss: 0.8446 - accuracy: 0.6089 - val_loss: 1.1873 - val_accuracy: 0.6494 - lr: 0.0100\n",
      "Epoch 22/200\n",
      "34/34 [==============================] - 0s 2ms/step - loss: 0.7954 - accuracy: 0.6387 - val_loss: 0.6173 - val_accuracy: 0.6667 - lr: 0.0100\n",
      "Epoch 23/200\n",
      "34/34 [==============================] - 0s 2ms/step - loss: 0.6433 - accuracy: 0.6723 - val_loss: 0.5186 - val_accuracy: 0.7706 - lr: 0.0100\n",
      "Epoch 24/200\n",
      "34/34 [==============================] - 0s 2ms/step - loss: 0.6214 - accuracy: 0.6723 - val_loss: 0.5528 - val_accuracy: 0.7446 - lr: 0.0100\n",
      "Epoch 25/200\n",
      "34/34 [==============================] - 0s 2ms/step - loss: 0.6480 - accuracy: 0.6834 - val_loss: 0.5108 - val_accuracy: 0.7576 - lr: 0.0100\n",
      "Epoch 26/200\n",
      "34/34 [==============================] - 0s 2ms/step - loss: 0.6102 - accuracy: 0.6834 - val_loss: 0.5036 - val_accuracy: 0.7619 - lr: 0.0100\n",
      "Epoch 27/200\n",
      "34/34 [==============================] - 0s 2ms/step - loss: 0.6185 - accuracy: 0.6648 - val_loss: 0.5461 - val_accuracy: 0.7359 - lr: 0.0100\n",
      "Epoch 28/200\n",
      "34/34 [==============================] - 0s 2ms/step - loss: 0.6860 - accuracy: 0.6220 - val_loss: 1.0476 - val_accuracy: 0.6494 - lr: 0.0100\n",
      "Epoch 29/200\n",
      "34/34 [==============================] - 0s 2ms/step - loss: 0.6259 - accuracy: 0.6685 - val_loss: 0.5595 - val_accuracy: 0.7186 - lr: 0.0100\n",
      "Epoch 30/200\n",
      "34/34 [==============================] - 0s 2ms/step - loss: 0.6067 - accuracy: 0.6816 - val_loss: 0.6147 - val_accuracy: 0.6840 - lr: 0.0100\n",
      "Epoch 31/200\n",
      "34/34 [==============================] - 0s 2ms/step - loss: 0.6188 - accuracy: 0.6667 - val_loss: 0.5033 - val_accuracy: 0.7662 - lr: 0.0100\n",
      "Epoch 32/200\n",
      "34/34 [==============================] - 0s 2ms/step - loss: 0.6591 - accuracy: 0.6518 - val_loss: 0.8034 - val_accuracy: 0.6537 - lr: 0.0100\n",
      "Epoch 33/200\n",
      "34/34 [==============================] - 0s 2ms/step - loss: 0.6387 - accuracy: 0.6704 - val_loss: 0.5051 - val_accuracy: 0.7619 - lr: 0.0100\n",
      "Epoch 34/200\n",
      "34/34 [==============================] - 0s 2ms/step - loss: 0.6146 - accuracy: 0.6872 - val_loss: 0.5259 - val_accuracy: 0.7446 - lr: 0.0100\n",
      "Epoch 35/200\n",
      "34/34 [==============================] - 0s 2ms/step - loss: 0.6131 - accuracy: 0.6983 - val_loss: 0.5093 - val_accuracy: 0.7749 - lr: 0.0100\n",
      "Epoch 36/200\n",
      " 1/34 [..............................] - ETA: 0s - loss: 0.6036 - accuracy: 0.6875\n",
      "Epoch 00036: ReduceLROnPlateau reducing learning rate to 0.0009999999776482583.\n",
      "34/34 [==============================] - 0s 2ms/step - loss: 0.6336 - accuracy: 0.6778 - val_loss: 0.6604 - val_accuracy: 0.6580 - lr: 0.0100\n",
      "Epoch 37/200\n",
      "34/34 [==============================] - 0s 2ms/step - loss: 0.6058 - accuracy: 0.6890 - val_loss: 0.5019 - val_accuracy: 0.7619 - lr: 1.0000e-03\n",
      "Epoch 38/200\n",
      "34/34 [==============================] - 0s 2ms/step - loss: 0.5671 - accuracy: 0.7002 - val_loss: 0.5033 - val_accuracy: 0.7706 - lr: 1.0000e-03\n",
      "Epoch 39/200\n",
      "34/34 [==============================] - 0s 2ms/step - loss: 0.5731 - accuracy: 0.7095 - val_loss: 0.4994 - val_accuracy: 0.7749 - lr: 1.0000e-03\n",
      "Epoch 40/200\n",
      "34/34 [==============================] - 0s 3ms/step - loss: 0.5724 - accuracy: 0.7132 - val_loss: 0.4994 - val_accuracy: 0.7749 - lr: 1.0000e-03\n",
      "Epoch 41/200\n",
      "34/34 [==============================] - 0s 2ms/step - loss: 0.5697 - accuracy: 0.7039 - val_loss: 0.5085 - val_accuracy: 0.7706 - lr: 1.0000e-03\n",
      "Epoch 42/200\n",
      "34/34 [==============================] - 0s 2ms/step - loss: 0.5656 - accuracy: 0.7281 - val_loss: 0.5107 - val_accuracy: 0.7489 - lr: 1.0000e-03\n",
      "Epoch 43/200\n",
      "34/34 [==============================] - 0s 2ms/step - loss: 0.5715 - accuracy: 0.7151 - val_loss: 0.5013 - val_accuracy: 0.7619 - lr: 1.0000e-03\n",
      "Epoch 44/200\n",
      " 1/34 [..............................] - ETA: 0s - loss: 0.7379 - accuracy: 0.5000\n",
      "Epoch 00044: ReduceLROnPlateau reducing learning rate to 9.999999310821295e-05.\n",
      "34/34 [==============================] - 0s 2ms/step - loss: 0.5664 - accuracy: 0.7058 - val_loss: 0.5064 - val_accuracy: 0.7532 - lr: 1.0000e-03\n",
      "Epoch 45/200\n",
      "34/34 [==============================] - 0s 2ms/step - loss: 0.5730 - accuracy: 0.7020 - val_loss: 0.5010 - val_accuracy: 0.7706 - lr: 1.0000e-04\n",
      "Epoch 46/200\n",
      "34/34 [==============================] - 0s 2ms/step - loss: 0.5644 - accuracy: 0.6965 - val_loss: 0.5001 - val_accuracy: 0.7749 - lr: 1.0000e-04\n",
      "Epoch 47/200\n",
      "34/34 [==============================] - 0s 2ms/step - loss: 0.5649 - accuracy: 0.6983 - val_loss: 0.5006 - val_accuracy: 0.7706 - lr: 1.0000e-04\n",
      "Epoch 48/200\n",
      "34/34 [==============================] - 0s 2ms/step - loss: 0.5642 - accuracy: 0.7058 - val_loss: 0.5002 - val_accuracy: 0.7749 - lr: 1.0000e-04\n",
      "Epoch 49/200\n",
      " 1/34 [..............................] - ETA: 0s - loss: 0.4782 - accuracy: 0.8125\n",
      "Epoch 00049: ReduceLROnPlateau reducing learning rate to 9.999999019782991e-06.\n",
      "34/34 [==============================] - 0s 2ms/step - loss: 0.5643 - accuracy: 0.7020 - val_loss: 0.5008 - val_accuracy: 0.7706 - lr: 1.0000e-04\n",
      "Epoch 00049: early stopping\n"
     ]
    }
   ],
   "source": [
    "import keras\n",
    "from keras import regularizers, optimizers\n",
    "from keras.layers import Dense\n",
    "from keras.models import Sequential\n",
    "from keras.callbacks import EarlyStopping, ReduceLROnPlateau\n",
    "\n",
    "## Defining my optimizer - Its just a refined form of SGD\n",
    "## ref - https://keras.io/optimizers/\n",
    "adam = keras.optimizers.Adam(lr=0.01, decay=0.0005)\n",
    "\n",
    "\n",
    "## Just a way to define neural nets. There are two ways sequential and functional\n",
    "## Sequential model lets you add neural net layers one after another by calling function\n",
    "model = Sequential()\n",
    "\n",
    "## Adding one layer having only one neuron\n",
    "## Notice our data has 8 input columns which goes into as the \"input_shape\" parameter\n",
    "## Notice the use of l2 regularizer\n",
    "model.add(Dense(1, input_shape=(8,), activation='sigmoid', kernel_regularizer=regularizers.l2()))\n",
    "\n",
    "## Callbacks\n",
    "earlystopper = EarlyStopping(monitor='val_loss', patience=10, verbose=1)\n",
    "reduce_lr = ReduceLROnPlateau(patience=5, verbose=1)\n",
    "\n",
    "## Compiling the model and defining loss function\n",
    "model.compile(optimizer=adam, loss='binary_crossentropy', metrics=['accuracy'])\n",
    "\n",
    "## Training neural nets\n",
    "fitted_model = model.fit(X_train, y_train, validation_data=(X_test,y_test), epochs=200, batch_size=16, callbacks=[reduce_lr, earlystopper])\n"
   ]
  },
  {
   "cell_type": "code",
   "execution_count": 9,
   "metadata": {},
   "outputs": [
    {
     "data": {
      "text/html": [
       "<div>\n",
       "<style scoped>\n",
       "    .dataframe tbody tr th:only-of-type {\n",
       "        vertical-align: middle;\n",
       "    }\n",
       "\n",
       "    .dataframe tbody tr th {\n",
       "        vertical-align: top;\n",
       "    }\n",
       "\n",
       "    .dataframe thead th {\n",
       "        text-align: right;\n",
       "    }\n",
       "</style>\n",
       "<table border=\"1\" class=\"dataframe\">\n",
       "  <thead>\n",
       "    <tr style=\"text-align: right;\">\n",
       "      <th></th>\n",
       "      <th>loss</th>\n",
       "      <th>accuracy</th>\n",
       "      <th>val_loss</th>\n",
       "      <th>val_accuracy</th>\n",
       "      <th>lr</th>\n",
       "    </tr>\n",
       "  </thead>\n",
       "  <tbody>\n",
       "    <tr>\n",
       "      <th>0</th>\n",
       "      <td>18.664755</td>\n",
       "      <td>0.461825</td>\n",
       "      <td>15.421762</td>\n",
       "      <td>0.432900</td>\n",
       "      <td>0.0100</td>\n",
       "    </tr>\n",
       "    <tr>\n",
       "      <th>1</th>\n",
       "      <td>11.664557</td>\n",
       "      <td>0.499069</td>\n",
       "      <td>14.000920</td>\n",
       "      <td>0.402597</td>\n",
       "      <td>0.0100</td>\n",
       "    </tr>\n",
       "    <tr>\n",
       "      <th>2</th>\n",
       "      <td>10.476890</td>\n",
       "      <td>0.478585</td>\n",
       "      <td>11.444057</td>\n",
       "      <td>0.424242</td>\n",
       "      <td>0.0100</td>\n",
       "    </tr>\n",
       "    <tr>\n",
       "      <th>3</th>\n",
       "      <td>8.589450</td>\n",
       "      <td>0.482309</td>\n",
       "      <td>9.391258</td>\n",
       "      <td>0.398268</td>\n",
       "      <td>0.0100</td>\n",
       "    </tr>\n",
       "    <tr>\n",
       "      <th>4</th>\n",
       "      <td>6.651205</td>\n",
       "      <td>0.484171</td>\n",
       "      <td>7.115016</td>\n",
       "      <td>0.398268</td>\n",
       "      <td>0.0100</td>\n",
       "    </tr>\n",
       "    <tr>\n",
       "      <th>5</th>\n",
       "      <td>5.007559</td>\n",
       "      <td>0.472998</td>\n",
       "      <td>5.300120</td>\n",
       "      <td>0.346320</td>\n",
       "      <td>0.0100</td>\n",
       "    </tr>\n",
       "    <tr>\n",
       "      <th>6</th>\n",
       "      <td>3.598540</td>\n",
       "      <td>0.446927</td>\n",
       "      <td>3.739484</td>\n",
       "      <td>0.303030</td>\n",
       "      <td>0.0100</td>\n",
       "    </tr>\n",
       "    <tr>\n",
       "      <th>7</th>\n",
       "      <td>2.489363</td>\n",
       "      <td>0.491620</td>\n",
       "      <td>2.453760</td>\n",
       "      <td>0.532468</td>\n",
       "      <td>0.0100</td>\n",
       "    </tr>\n",
       "    <tr>\n",
       "      <th>8</th>\n",
       "      <td>1.578712</td>\n",
       "      <td>0.441341</td>\n",
       "      <td>1.324448</td>\n",
       "      <td>0.497835</td>\n",
       "      <td>0.0100</td>\n",
       "    </tr>\n",
       "    <tr>\n",
       "      <th>9</th>\n",
       "      <td>0.988558</td>\n",
       "      <td>0.474860</td>\n",
       "      <td>0.774222</td>\n",
       "      <td>0.510823</td>\n",
       "      <td>0.0100</td>\n",
       "    </tr>\n",
       "    <tr>\n",
       "      <th>10</th>\n",
       "      <td>0.719589</td>\n",
       "      <td>0.586592</td>\n",
       "      <td>0.607313</td>\n",
       "      <td>0.692641</td>\n",
       "      <td>0.0100</td>\n",
       "    </tr>\n",
       "    <tr>\n",
       "      <th>11</th>\n",
       "      <td>0.774186</td>\n",
       "      <td>0.599628</td>\n",
       "      <td>0.592866</td>\n",
       "      <td>0.683983</td>\n",
       "      <td>0.0100</td>\n",
       "    </tr>\n",
       "    <tr>\n",
       "      <th>12</th>\n",
       "      <td>0.641647</td>\n",
       "      <td>0.674115</td>\n",
       "      <td>0.614399</td>\n",
       "      <td>0.645022</td>\n",
       "      <td>0.0100</td>\n",
       "    </tr>\n",
       "    <tr>\n",
       "      <th>13</th>\n",
       "      <td>0.639822</td>\n",
       "      <td>0.672253</td>\n",
       "      <td>0.688782</td>\n",
       "      <td>0.593074</td>\n",
       "      <td>0.0100</td>\n",
       "    </tr>\n",
       "    <tr>\n",
       "      <th>14</th>\n",
       "      <td>0.647794</td>\n",
       "      <td>0.662942</td>\n",
       "      <td>0.574772</td>\n",
       "      <td>0.735931</td>\n",
       "      <td>0.0100</td>\n",
       "    </tr>\n",
       "    <tr>\n",
       "      <th>15</th>\n",
       "      <td>0.809934</td>\n",
       "      <td>0.625698</td>\n",
       "      <td>0.692015</td>\n",
       "      <td>0.670996</td>\n",
       "      <td>0.0100</td>\n",
       "    </tr>\n",
       "    <tr>\n",
       "      <th>16</th>\n",
       "      <td>0.689735</td>\n",
       "      <td>0.648045</td>\n",
       "      <td>0.592318</td>\n",
       "      <td>0.709957</td>\n",
       "      <td>0.0100</td>\n",
       "    </tr>\n",
       "    <tr>\n",
       "      <th>17</th>\n",
       "      <td>0.665469</td>\n",
       "      <td>0.657356</td>\n",
       "      <td>0.811921</td>\n",
       "      <td>0.653680</td>\n",
       "      <td>0.0100</td>\n",
       "    </tr>\n",
       "    <tr>\n",
       "      <th>18</th>\n",
       "      <td>0.705047</td>\n",
       "      <td>0.649907</td>\n",
       "      <td>0.608498</td>\n",
       "      <td>0.675325</td>\n",
       "      <td>0.0100</td>\n",
       "    </tr>\n",
       "    <tr>\n",
       "      <th>19</th>\n",
       "      <td>0.629000</td>\n",
       "      <td>0.668529</td>\n",
       "      <td>0.545845</td>\n",
       "      <td>0.735931</td>\n",
       "      <td>0.0100</td>\n",
       "    </tr>\n",
       "    <tr>\n",
       "      <th>20</th>\n",
       "      <td>0.844565</td>\n",
       "      <td>0.608939</td>\n",
       "      <td>1.187270</td>\n",
       "      <td>0.649351</td>\n",
       "      <td>0.0100</td>\n",
       "    </tr>\n",
       "    <tr>\n",
       "      <th>21</th>\n",
       "      <td>0.795419</td>\n",
       "      <td>0.638734</td>\n",
       "      <td>0.617341</td>\n",
       "      <td>0.666667</td>\n",
       "      <td>0.0100</td>\n",
       "    </tr>\n",
       "    <tr>\n",
       "      <th>22</th>\n",
       "      <td>0.643276</td>\n",
       "      <td>0.672253</td>\n",
       "      <td>0.518580</td>\n",
       "      <td>0.770563</td>\n",
       "      <td>0.0100</td>\n",
       "    </tr>\n",
       "    <tr>\n",
       "      <th>23</th>\n",
       "      <td>0.621437</td>\n",
       "      <td>0.672253</td>\n",
       "      <td>0.552841</td>\n",
       "      <td>0.744589</td>\n",
       "      <td>0.0100</td>\n",
       "    </tr>\n",
       "    <tr>\n",
       "      <th>24</th>\n",
       "      <td>0.647987</td>\n",
       "      <td>0.683426</td>\n",
       "      <td>0.510818</td>\n",
       "      <td>0.757576</td>\n",
       "      <td>0.0100</td>\n",
       "    </tr>\n",
       "    <tr>\n",
       "      <th>25</th>\n",
       "      <td>0.610222</td>\n",
       "      <td>0.683426</td>\n",
       "      <td>0.503612</td>\n",
       "      <td>0.761905</td>\n",
       "      <td>0.0100</td>\n",
       "    </tr>\n",
       "    <tr>\n",
       "      <th>26</th>\n",
       "      <td>0.618467</td>\n",
       "      <td>0.664804</td>\n",
       "      <td>0.546082</td>\n",
       "      <td>0.735931</td>\n",
       "      <td>0.0100</td>\n",
       "    </tr>\n",
       "    <tr>\n",
       "      <th>27</th>\n",
       "      <td>0.686048</td>\n",
       "      <td>0.621974</td>\n",
       "      <td>1.047640</td>\n",
       "      <td>0.649351</td>\n",
       "      <td>0.0100</td>\n",
       "    </tr>\n",
       "    <tr>\n",
       "      <th>28</th>\n",
       "      <td>0.625914</td>\n",
       "      <td>0.668529</td>\n",
       "      <td>0.559529</td>\n",
       "      <td>0.718615</td>\n",
       "      <td>0.0100</td>\n",
       "    </tr>\n",
       "    <tr>\n",
       "      <th>29</th>\n",
       "      <td>0.606678</td>\n",
       "      <td>0.681564</td>\n",
       "      <td>0.614724</td>\n",
       "      <td>0.683983</td>\n",
       "      <td>0.0100</td>\n",
       "    </tr>\n",
       "    <tr>\n",
       "      <th>30</th>\n",
       "      <td>0.618767</td>\n",
       "      <td>0.666667</td>\n",
       "      <td>0.503326</td>\n",
       "      <td>0.766234</td>\n",
       "      <td>0.0100</td>\n",
       "    </tr>\n",
       "    <tr>\n",
       "      <th>31</th>\n",
       "      <td>0.659075</td>\n",
       "      <td>0.651769</td>\n",
       "      <td>0.803430</td>\n",
       "      <td>0.653680</td>\n",
       "      <td>0.0100</td>\n",
       "    </tr>\n",
       "    <tr>\n",
       "      <th>32</th>\n",
       "      <td>0.638658</td>\n",
       "      <td>0.670391</td>\n",
       "      <td>0.505127</td>\n",
       "      <td>0.761905</td>\n",
       "      <td>0.0100</td>\n",
       "    </tr>\n",
       "    <tr>\n",
       "      <th>33</th>\n",
       "      <td>0.614601</td>\n",
       "      <td>0.687151</td>\n",
       "      <td>0.525883</td>\n",
       "      <td>0.744589</td>\n",
       "      <td>0.0100</td>\n",
       "    </tr>\n",
       "    <tr>\n",
       "      <th>34</th>\n",
       "      <td>0.613069</td>\n",
       "      <td>0.698324</td>\n",
       "      <td>0.509316</td>\n",
       "      <td>0.774892</td>\n",
       "      <td>0.0100</td>\n",
       "    </tr>\n",
       "    <tr>\n",
       "      <th>35</th>\n",
       "      <td>0.633587</td>\n",
       "      <td>0.677840</td>\n",
       "      <td>0.660399</td>\n",
       "      <td>0.658009</td>\n",
       "      <td>0.0100</td>\n",
       "    </tr>\n",
       "    <tr>\n",
       "      <th>36</th>\n",
       "      <td>0.605787</td>\n",
       "      <td>0.689013</td>\n",
       "      <td>0.501915</td>\n",
       "      <td>0.761905</td>\n",
       "      <td>0.0010</td>\n",
       "    </tr>\n",
       "    <tr>\n",
       "      <th>37</th>\n",
       "      <td>0.567106</td>\n",
       "      <td>0.700186</td>\n",
       "      <td>0.503250</td>\n",
       "      <td>0.770563</td>\n",
       "      <td>0.0010</td>\n",
       "    </tr>\n",
       "    <tr>\n",
       "      <th>38</th>\n",
       "      <td>0.573052</td>\n",
       "      <td>0.709497</td>\n",
       "      <td>0.499393</td>\n",
       "      <td>0.774892</td>\n",
       "      <td>0.0010</td>\n",
       "    </tr>\n",
       "    <tr>\n",
       "      <th>39</th>\n",
       "      <td>0.572403</td>\n",
       "      <td>0.713222</td>\n",
       "      <td>0.499400</td>\n",
       "      <td>0.774892</td>\n",
       "      <td>0.0010</td>\n",
       "    </tr>\n",
       "    <tr>\n",
       "      <th>40</th>\n",
       "      <td>0.569687</td>\n",
       "      <td>0.703911</td>\n",
       "      <td>0.508503</td>\n",
       "      <td>0.770563</td>\n",
       "      <td>0.0010</td>\n",
       "    </tr>\n",
       "    <tr>\n",
       "      <th>41</th>\n",
       "      <td>0.565552</td>\n",
       "      <td>0.728119</td>\n",
       "      <td>0.510745</td>\n",
       "      <td>0.748918</td>\n",
       "      <td>0.0010</td>\n",
       "    </tr>\n",
       "    <tr>\n",
       "      <th>42</th>\n",
       "      <td>0.571534</td>\n",
       "      <td>0.715084</td>\n",
       "      <td>0.501306</td>\n",
       "      <td>0.761905</td>\n",
       "      <td>0.0010</td>\n",
       "    </tr>\n",
       "    <tr>\n",
       "      <th>43</th>\n",
       "      <td>0.566415</td>\n",
       "      <td>0.705773</td>\n",
       "      <td>0.506415</td>\n",
       "      <td>0.753247</td>\n",
       "      <td>0.0010</td>\n",
       "    </tr>\n",
       "    <tr>\n",
       "      <th>44</th>\n",
       "      <td>0.573018</td>\n",
       "      <td>0.702048</td>\n",
       "      <td>0.500965</td>\n",
       "      <td>0.770563</td>\n",
       "      <td>0.0001</td>\n",
       "    </tr>\n",
       "    <tr>\n",
       "      <th>45</th>\n",
       "      <td>0.564364</td>\n",
       "      <td>0.696462</td>\n",
       "      <td>0.500080</td>\n",
       "      <td>0.774892</td>\n",
       "      <td>0.0001</td>\n",
       "    </tr>\n",
       "    <tr>\n",
       "      <th>46</th>\n",
       "      <td>0.564928</td>\n",
       "      <td>0.698324</td>\n",
       "      <td>0.500633</td>\n",
       "      <td>0.770563</td>\n",
       "      <td>0.0001</td>\n",
       "    </tr>\n",
       "    <tr>\n",
       "      <th>47</th>\n",
       "      <td>0.564229</td>\n",
       "      <td>0.705773</td>\n",
       "      <td>0.500235</td>\n",
       "      <td>0.774892</td>\n",
       "      <td>0.0001</td>\n",
       "    </tr>\n",
       "    <tr>\n",
       "      <th>48</th>\n",
       "      <td>0.564330</td>\n",
       "      <td>0.702048</td>\n",
       "      <td>0.500842</td>\n",
       "      <td>0.770563</td>\n",
       "      <td>0.0001</td>\n",
       "    </tr>\n",
       "  </tbody>\n",
       "</table>\n",
       "</div>"
      ],
      "text/plain": [
       "         loss  accuracy   val_loss  val_accuracy      lr\n",
       "0   18.664755  0.461825  15.421762      0.432900  0.0100\n",
       "1   11.664557  0.499069  14.000920      0.402597  0.0100\n",
       "2   10.476890  0.478585  11.444057      0.424242  0.0100\n",
       "3    8.589450  0.482309   9.391258      0.398268  0.0100\n",
       "4    6.651205  0.484171   7.115016      0.398268  0.0100\n",
       "5    5.007559  0.472998   5.300120      0.346320  0.0100\n",
       "6    3.598540  0.446927   3.739484      0.303030  0.0100\n",
       "7    2.489363  0.491620   2.453760      0.532468  0.0100\n",
       "8    1.578712  0.441341   1.324448      0.497835  0.0100\n",
       "9    0.988558  0.474860   0.774222      0.510823  0.0100\n",
       "10   0.719589  0.586592   0.607313      0.692641  0.0100\n",
       "11   0.774186  0.599628   0.592866      0.683983  0.0100\n",
       "12   0.641647  0.674115   0.614399      0.645022  0.0100\n",
       "13   0.639822  0.672253   0.688782      0.593074  0.0100\n",
       "14   0.647794  0.662942   0.574772      0.735931  0.0100\n",
       "15   0.809934  0.625698   0.692015      0.670996  0.0100\n",
       "16   0.689735  0.648045   0.592318      0.709957  0.0100\n",
       "17   0.665469  0.657356   0.811921      0.653680  0.0100\n",
       "18   0.705047  0.649907   0.608498      0.675325  0.0100\n",
       "19   0.629000  0.668529   0.545845      0.735931  0.0100\n",
       "20   0.844565  0.608939   1.187270      0.649351  0.0100\n",
       "21   0.795419  0.638734   0.617341      0.666667  0.0100\n",
       "22   0.643276  0.672253   0.518580      0.770563  0.0100\n",
       "23   0.621437  0.672253   0.552841      0.744589  0.0100\n",
       "24   0.647987  0.683426   0.510818      0.757576  0.0100\n",
       "25   0.610222  0.683426   0.503612      0.761905  0.0100\n",
       "26   0.618467  0.664804   0.546082      0.735931  0.0100\n",
       "27   0.686048  0.621974   1.047640      0.649351  0.0100\n",
       "28   0.625914  0.668529   0.559529      0.718615  0.0100\n",
       "29   0.606678  0.681564   0.614724      0.683983  0.0100\n",
       "30   0.618767  0.666667   0.503326      0.766234  0.0100\n",
       "31   0.659075  0.651769   0.803430      0.653680  0.0100\n",
       "32   0.638658  0.670391   0.505127      0.761905  0.0100\n",
       "33   0.614601  0.687151   0.525883      0.744589  0.0100\n",
       "34   0.613069  0.698324   0.509316      0.774892  0.0100\n",
       "35   0.633587  0.677840   0.660399      0.658009  0.0100\n",
       "36   0.605787  0.689013   0.501915      0.761905  0.0010\n",
       "37   0.567106  0.700186   0.503250      0.770563  0.0010\n",
       "38   0.573052  0.709497   0.499393      0.774892  0.0010\n",
       "39   0.572403  0.713222   0.499400      0.774892  0.0010\n",
       "40   0.569687  0.703911   0.508503      0.770563  0.0010\n",
       "41   0.565552  0.728119   0.510745      0.748918  0.0010\n",
       "42   0.571534  0.715084   0.501306      0.761905  0.0010\n",
       "43   0.566415  0.705773   0.506415      0.753247  0.0010\n",
       "44   0.573018  0.702048   0.500965      0.770563  0.0001\n",
       "45   0.564364  0.696462   0.500080      0.774892  0.0001\n",
       "46   0.564928  0.698324   0.500633      0.770563  0.0001\n",
       "47   0.564229  0.705773   0.500235      0.774892  0.0001\n",
       "48   0.564330  0.702048   0.500842      0.770563  0.0001"
      ]
     },
     "execution_count": 9,
     "metadata": {},
     "output_type": "execute_result"
    }
   ],
   "source": [
    "pd.DataFrame(fitted_model.history)"
   ]
  },
  {
   "cell_type": "code",
   "execution_count": 10,
   "metadata": {},
   "outputs": [],
   "source": [
    "train_acc = fitted_model.history['accuracy']\n",
    "train_loss = fitted_model.history['loss']\n",
    "\n",
    "val_acc = fitted_model.history['val_accuracy']\n",
    "val_loss = fitted_model.history['val_loss']"
   ]
  },
  {
   "cell_type": "code",
   "execution_count": 11,
   "metadata": {},
   "outputs": [
    {
     "data": {
      "image/png": "[encoded data removed]",
      "text/plain": [
       "<Figure size 1440x360 with 2 Axes>"
      ]
     },
     "metadata": {
      "needs_background": "light"
     },
     "output_type": "display_data"
    }
   ],
   "source": [
    "from matplotlib import pyplot as plt #plt is a visualization module in matplotlib.  \n",
    "%matplotlib inline \n",
    "plt.figure(figsize=(20,5))\n",
    "plt.subplot(1,2,1)\n",
    "plt.xlabel('Epochs')\n",
    "plt.ylabel('Loss')\n",
    "plt.plot(train_loss)\n",
    "plt.plot(val_loss)\n",
    "\n",
    "plt.subplot(1,2,2)\n",
    "plt.xlabel('Epochs')\n",
    "plt.ylabel('Accuracy')\n",
    "plt.plot(train_acc)\n",
    "plt.plot(val_acc)\n",
    "plt.show()"
   ]
  },
  {
   "cell_type": "code",
   "execution_count": null,
   "metadata": {},
   "outputs": [],
   "source": [
    "# !pip install graphviz\n",
    "# !pip install ann_visualizer"
   ]
  },
  {
   "cell_type": "code",
   "execution_count": 13,
   "metadata": {},
   "outputs": [],
   "source": [
    "from ann_visualizer.visualize import ann_viz\n",
    "ann_viz(model,title=\"mlp neural network\")"
   ]
  },
  {
   "cell_type": "markdown",
   "metadata": {},
   "source": [
    "### Perceptron performance"
   ]
  },
  {
   "cell_type": "code",
   "execution_count": 14,
   "metadata": {},
   "outputs": [
    {
     "name": "stdout",
     "output_type": "stream",
     "text": [
      "WARNING:tensorflow:From <ipython-input-14-93640936b386>:2: Sequential.predict_classes (from tensorflow.python.keras.engine.sequential) is deprecated and will be removed after 2021-01-01.\n",
      "Instructions for updating:\n",
      "Please use instead:* `np.argmax(model.predict(x), axis=-1)`,   if your model does multi-class classification   (e.g. if it uses a `softmax` last-layer activation).* `(model.predict(x) > 0.5).astype(\"int32\")`,   if your model does binary classification   (e.g. if it uses a `sigmoid` last-layer activation).\n",
      "Train Accuracy : 0.7094972067039106\n",
      "Test_Accuray   :  0.7705627705627706\n"
     ]
    }
   ],
   "source": [
    "from sklearn.metrics import accuracy_score\n",
    "perceptron_train_preds = model.predict_classes(X_train)\n",
    "perceptron_test_preds = model.predict_classes(X_test)\n",
    "\n",
    "print(\"Train Accuracy :\",accuracy_score(y_train,perceptron_train_preds))\n",
    "print(\"Test_Accuray   : \",accuracy_score(y_test,perceptron_test_preds))"
   ]
  },
  {
   "cell_type": "markdown",
   "metadata": {},
   "source": [
    "### Checking Logistic Regression performance"
   ]
  },
  {
   "cell_type": "code",
   "execution_count": 15,
   "metadata": {},
   "outputs": [
    {
     "data": {
      "text/plain": [
       "LogisticRegression(random_state=1234)"
      ]
     },
     "execution_count": 15,
     "metadata": {},
     "output_type": "execute_result"
    }
   ],
   "source": [
    "from sklearn.linear_model import LogisticRegression\n",
    "from sklearn.metrics import accuracy_score\n",
    "\n",
    "logistic_model = LogisticRegression(random_state=1234)\n",
    "\n",
    "logistic_model.fit(X_train,y_train)"
   ]
  },
  {
   "cell_type": "code",
   "execution_count": 16,
   "metadata": {},
   "outputs": [
    {
     "name": "stdout",
     "output_type": "stream",
     "text": [
      "Train Accuracy :   0.7653631284916201\n",
      "Test Accuracy  :   0.7748917748917749\n"
     ]
    }
   ],
   "source": [
    "logistic_train_preds = logistic_model.predict(X_train)\n",
    "logistic_test_preds = logistic_model.predict(X_test)\n",
    "\n",
    "print(\"Train Accuracy :  \",accuracy_score(y_train,logistic_train_preds))\n",
    "print(\"Test Accuracy  :  \",accuracy_score(y_test,logistic_test_preds))"
   ]
  },
  {
   "cell_type": "markdown",
   "metadata": {},
   "source": [
    "## Multilayer Perceptron"
   ]
  },
  {
   "cell_type": "code",
   "execution_count": 17,
   "metadata": {},
   "outputs": [
    {
     "name": "stdout",
     "output_type": "stream",
     "text": [
      "Epoch 1/200\n",
      "34/34 [==============================] - 0s 4ms/step - loss: 3.0123 - accuracy: 0.5270 - val_loss: 1.0651 - val_accuracy: 0.6017 - lr: 0.0100\n",
      "Epoch 2/200\n",
      "34/34 [==============================] - 0s 2ms/step - loss: 0.7671 - accuracy: 0.6425 - val_loss: 0.8614 - val_accuracy: 0.6190 - lr: 0.0100\n",
      "Epoch 3/200\n",
      "34/34 [==============================] - 0s 2ms/step - loss: 0.6867 - accuracy: 0.6294 - val_loss: 0.5919 - val_accuracy: 0.7186 - lr: 0.0100\n",
      "Epoch 4/200\n",
      "34/34 [==============================] - 0s 2ms/step - loss: 0.6538 - accuracy: 0.6853 - val_loss: 0.6238 - val_accuracy: 0.6883 - lr: 0.0100\n",
      "Epoch 5/200\n",
      "34/34 [==============================] - 0s 2ms/step - loss: 0.7314 - accuracy: 0.6574 - val_loss: 0.5504 - val_accuracy: 0.7403 - lr: 0.0100\n",
      "Epoch 6/200\n",
      "34/34 [==============================] - 0s 2ms/step - loss: 0.7025 - accuracy: 0.6592 - val_loss: 1.2208 - val_accuracy: 0.6061 - lr: 0.0100\n",
      "Epoch 7/200\n",
      "34/34 [==============================] - 0s 2ms/step - loss: 0.7718 - accuracy: 0.6350 - val_loss: 0.6326 - val_accuracy: 0.6840 - lr: 0.0100\n",
      "Epoch 8/200\n",
      "34/34 [==============================] - 0s 3ms/step - loss: 0.7372 - accuracy: 0.6350 - val_loss: 0.7722 - val_accuracy: 0.6623 - lr: 0.0100\n",
      "Epoch 9/200\n",
      "34/34 [==============================] - 0s 3ms/step - loss: 0.6803 - accuracy: 0.6648 - val_loss: 0.5511 - val_accuracy: 0.7446 - lr: 0.0100\n",
      "Epoch 10/200\n",
      " 1/34 [..............................] - ETA: 0s - loss: 0.5109 - accuracy: 0.8125\n",
      "Epoch 00010: ReduceLROnPlateau reducing learning rate to 0.0009999999776482583.\n",
      "34/34 [==============================] - 0s 2ms/step - loss: 0.6160 - accuracy: 0.6741 - val_loss: 0.8804 - val_accuracy: 0.6320 - lr: 0.0100\n",
      "Epoch 11/200\n",
      "34/34 [==============================] - 0s 3ms/step - loss: 0.6618 - accuracy: 0.6760 - val_loss: 0.5145 - val_accuracy: 0.7706 - lr: 1.0000e-03\n",
      "Epoch 12/200\n",
      "34/34 [==============================] - 0s 2ms/step - loss: 0.5771 - accuracy: 0.7039 - val_loss: 0.5245 - val_accuracy: 0.7576 - lr: 1.0000e-03\n",
      "Epoch 13/200\n",
      "34/34 [==============================] - 0s 2ms/step - loss: 0.5770 - accuracy: 0.7002 - val_loss: 0.5172 - val_accuracy: 0.7792 - lr: 1.0000e-03\n",
      "Epoch 14/200\n",
      "34/34 [==============================] - 0s 3ms/step - loss: 0.5777 - accuracy: 0.7039 - val_loss: 0.5178 - val_accuracy: 0.7662 - lr: 1.0000e-03\n",
      "Epoch 15/200\n",
      "34/34 [==============================] - 0s 2ms/step - loss: 0.5775 - accuracy: 0.7058 - val_loss: 0.5224 - val_accuracy: 0.7749 - lr: 1.0000e-03\n",
      "Epoch 16/200\n",
      " 1/34 [..............................] - ETA: 0s - loss: 0.5664 - accuracy: 0.6875\n",
      "Epoch 00016: ReduceLROnPlateau reducing learning rate to 9.999999310821295e-05.\n",
      "34/34 [==============================] - 0s 2ms/step - loss: 0.5784 - accuracy: 0.7020 - val_loss: 0.5179 - val_accuracy: 0.7532 - lr: 1.0000e-03\n",
      "Epoch 17/200\n",
      "34/34 [==============================] - 0s 2ms/step - loss: 0.5728 - accuracy: 0.7169 - val_loss: 0.5177 - val_accuracy: 0.7532 - lr: 1.0000e-04\n",
      "Epoch 18/200\n",
      "34/34 [==============================] - 0s 2ms/step - loss: 0.5734 - accuracy: 0.7114 - val_loss: 0.5178 - val_accuracy: 0.7576 - lr: 1.0000e-04\n",
      "Epoch 19/200\n",
      "34/34 [==============================] - 0s 2ms/step - loss: 0.5728 - accuracy: 0.7132 - val_loss: 0.5171 - val_accuracy: 0.7576 - lr: 1.0000e-04\n",
      "Epoch 20/200\n",
      "34/34 [==============================] - 0s 2ms/step - loss: 0.5725 - accuracy: 0.7169 - val_loss: 0.5169 - val_accuracy: 0.7532 - lr: 1.0000e-04\n",
      "Epoch 21/200\n",
      " 1/34 [..............................] - ETA: 0s - loss: 0.6961 - accuracy: 0.5625\n",
      "Epoch 00021: ReduceLROnPlateau reducing learning rate to 9.999999019782991e-06.\n",
      "34/34 [==============================] - 0s 2ms/step - loss: 0.5723 - accuracy: 0.7151 - val_loss: 0.5168 - val_accuracy: 0.7532 - lr: 1.0000e-04\n"
     ]
    }
   ],
   "source": [
    "import keras\n",
    "from keras import regularizers, optimizers\n",
    "from keras.layers import Dense\n",
    "from keras.models import Sequential\n",
    "from keras.callbacks import EarlyStopping, ReduceLROnPlateau\n",
    "\n",
    "## Defining my optimizer - Its just a refined form of SGD\n",
    "## ref - https://keras.io/optimizers/\n",
    "adam = keras.optimizers.Adam(lr=0.01, decay=0.0005)\n",
    "\n",
    "## Just a way to define neural nets. There are two ways sequential and functional\n",
    "## Sequential model lets you add neural net layers one after another by calling function\n",
    "model = Sequential()\n",
    "\n",
    "## Adding one layer having only one neuron\n",
    "## Notice our data has 8 input columns which goes into as the \"input_shape\" parameter\n",
    "## Notice the use of l2 regularizer\n",
    "model.add(Dense(5, input_shape=(8,)))\n",
    "model.add(Dense(8,))\n",
    "model.add(Dense(1, activation='sigmoid', kernel_regularizer=regularizers.l2()))\n",
    "\n",
    "## Callbacks\n",
    "earlystopper = EarlyStopping(monitor='val_loss', patience=10)\n",
    "reduce_lr = ReduceLROnPlateau(patience=5, verbose=1)\n",
    "\n",
    "## Compiling the model and defining loss function\n",
    "model.compile(optimizer=adam, loss='binary_crossentropy', metrics=['accuracy'])\n",
    "\n",
    "## Training neural nets\n",
    "history = model.fit(X_train, y_train, validation_data=(X_test,y_test), epochs=200, batch_size=16, callbacks=[reduce_lr, earlystopper])"
   ]
  },
  {
   "cell_type": "code",
   "execution_count": 18,
   "metadata": {},
   "outputs": [
    {
     "name": "stdout",
     "output_type": "stream",
     "text": [
      "Model: \"sequential_1\"\n",
      "_________________________________________________________________\n",
      "Layer (type)                 Output Shape              Param #   \n",
      "=================================================================\n",
      "dense_1 (Dense)              (None, 5)                 45        \n",
      "_________________________________________________________________\n",
      "dense_2 (Dense)              (None, 8)                 48        \n",
      "_________________________________________________________________\n",
      "dense_3 (Dense)              (None, 1)                 9         \n",
      "=================================================================\n",
      "Total params: 102\n",
      "Trainable params: 102\n",
      "Non-trainable params: 0\n",
      "_________________________________________________________________\n"
     ]
    }
   ],
   "source": [
    "model.summary()"
   ]
  },
  {
   "cell_type": "code",
   "execution_count": 19,
   "metadata": {},
   "outputs": [
    {
     "data": {
      "text/plain": [
       "[<matplotlib.lines.Line2D at 0x14894b8d0>]"
      ]
     },
     "execution_count": 19,
     "metadata": {},
     "output_type": "execute_result"
    },
    {
     "data": {
      "image/png": "[encoded data removed]",
      "text/plain": [
       "<Figure size 1440x360 with 2 Axes>"
      ]
     },
     "metadata": {
      "needs_background": "light"
     },
     "output_type": "display_data"
    }
   ],
   "source": [
    "train_acc = history.history['accuracy']\n",
    "train_loss = history.history['loss']\n",
    "\n",
    "val_acc = history.history['val_accuracy']\n",
    "val_loss = history.history['val_loss']\n",
    "\n",
    "from matplotlib import pyplot as plt #plt is a visualization module in matplotlib.  \n",
    "%matplotlib inline \n",
    "plt.figure(figsize=(20,5))\n",
    "plt.subplot(1,2,1)\n",
    "plt.xlabel('Epochs')\n",
    "plt.ylabel('Loss')\n",
    "plt.plot(train_loss)\n",
    "plt.plot(val_loss)\n",
    "\n",
    "plt.subplot(1,2,2)\n",
    "plt.xlabel('Epochs')\n",
    "plt.ylabel('Accuracy')\n",
    "plt.plot(train_acc)\n",
    "plt.plot(val_acc)"
   ]
  },
  {
   "cell_type": "code",
   "execution_count": 20,
   "metadata": {},
   "outputs": [],
   "source": [
    "ann_viz(model,title=\"mlp neural network\")"
   ]
  },
  {
   "cell_type": "code",
   "execution_count": 21,
   "metadata": {},
   "outputs": [
    {
     "name": "stdout",
     "output_type": "stream",
     "text": [
      "Train Accuracy :   0.7150837988826816\n",
      "Test Accuracy  :   0.7532467532467533\n"
     ]
    }
   ],
   "source": [
    "from sklearn.metrics import accuracy_score\n",
    "mlp_train_preds = model.predict_classes(X_train)\n",
    "mlp_test_preds = model.predict_classes(X_test)\n",
    "\n",
    "print(\"Train Accuracy :  \",accuracy_score(y_train,mlp_train_preds))\n",
    "print(\"Test Accuracy  :  \",accuracy_score(y_test,mlp_test_preds))"
   ]
  },
  {
   "cell_type": "markdown",
   "metadata": {},
   "source": [
    "## SKLEARN MLP CLASSIFIER"
   ]
  },
  {
   "cell_type": "code",
   "execution_count": 22,
   "metadata": {},
   "outputs": [
    {
     "data": {
      "text/plain": [
       "MLPClassifier(activation='logistic', batch_size=64, hidden_layer_sizes=(21,),\n",
       "              random_state=1234)"
      ]
     },
     "execution_count": 22,
     "metadata": {},
     "output_type": "execute_result"
    }
   ],
   "source": [
    "from sklearn.neural_network import MLPClassifier\n",
    "model = MLPClassifier(activation='logistic',batch_size=64,random_state=1234,hidden_layer_sizes=(21,))\n",
    "model.fit(X_train,y_train)"
   ]
  },
  {
   "cell_type": "code",
   "execution_count": 23,
   "metadata": {},
   "outputs": [
    {
     "name": "stdout",
     "output_type": "stream",
     "text": [
      "Train Accuracy  :   0.74487895716946\n",
      "Test Accuracy   :   0.7359307359307359\n"
     ]
    }
   ],
   "source": [
    "from sklearn.metrics import accuracy_score\n",
    "sklearn_mlp_train_preds = model.predict(X_train)\n",
    "sklearn_mlp_test_preds = model.predict(X_test)\n",
    "\n",
    "print(\"Train Accuracy  :  \",accuracy_score(y_train,sklearn_mlp_train_preds))\n",
    "print(\"Test Accuracy   :  \",accuracy_score(y_test,sklearn_mlp_test_preds))"
   ]
  },
  {
   "cell_type": "markdown",
   "metadata": {},
   "source": [
    "## Grid Search CV"
   ]
  },
  {
   "cell_type": "markdown",
   "metadata": {},
   "source": [
    "#### Scoring with recall-score"
   ]
  },
  {
   "cell_type": "code",
   "execution_count": 24,
   "metadata": {},
   "outputs": [
    {
     "data": {
      "text/plain": [
       "MLPClassifier(activation='logistic', batch_size=32, hidden_layer_sizes=(15,),\n",
       "              random_state=1234)"
      ]
     },
     "execution_count": 24,
     "metadata": {},
     "output_type": "execute_result"
    }
   ],
   "source": [
    "from sklearn.model_selection import RandomizedSearchCV,GridSearchCV\n",
    "from sklearn.metrics import make_scorer\n",
    "from sklearn.metrics import f1_score,recall_score\n",
    "\n",
    "mlp_grid=  MLPClassifier(activation='logistic',random_state=1234)\n",
    "# Use a grid over parameters of interest\n",
    "\n",
    "\n",
    "param_grid = {\"batch_size\" : [16, 32, 64, 128],\n",
    "           \"hidden_layer_sizes\" : [(11,), (15,), (19,),(21,)],\n",
    "           \"max_iter\" : [50, 100, 150, 200]}\n",
    " \n",
    "mlp_cv_grid = GridSearchCV(estimator = mlp_grid, param_grid = param_grid, cv = 3,\n",
    "                                scoring = make_scorer(lambda yt,yp: recall_score(yt,yp,pos_label = 1)))\n",
    "mlp_cv_grid.fit(X_train, y_train)\n",
    "mlp_cv_grid.best_estimator_"
   ]
  },
  {
   "cell_type": "code",
   "execution_count": 25,
   "metadata": {},
   "outputs": [
    {
     "name": "stdout",
     "output_type": "stream",
     "text": [
      "Train Accuracy  :   0.7467411545623837\n",
      "Test Accuracy   :   0.7532467532467533\n"
     ]
    }
   ],
   "source": [
    "sklearn_mlp_train_preds = mlp_cv_grid.best_estimator_.predict(X_train)\n",
    "sklearn_mlp_test_preds = mlp_cv_grid.best_estimator_.predict(X_test)\n",
    "\n",
    "print(\"Train Accuracy  :  \",accuracy_score(y_train,sklearn_mlp_train_preds))\n",
    "print(\"Test Accuracy   :  \",accuracy_score(y_test,sklearn_mlp_test_preds))"
   ]
  },
  {
   "cell_type": "markdown",
   "metadata": {},
   "source": [
    "#### Scoring with Accuracy"
   ]
  },
  {
   "cell_type": "code",
   "execution_count": 26,
   "metadata": {},
   "outputs": [
    {
     "data": {
      "text/plain": [
       "MLPClassifier(activation='logistic', batch_size=64, hidden_layer_sizes=(19,),\n",
       "              random_state=1234)"
      ]
     },
     "execution_count": 26,
     "metadata": {},
     "output_type": "execute_result"
    }
   ],
   "source": [
    "from sklearn.model_selection import RandomizedSearchCV,GridSearchCV\n",
    "from sklearn.metrics import make_scorer\n",
    "from sklearn.metrics import f1_score\n",
    "\n",
    "mlp_grid=  MLPClassifier(activation='logistic',random_state=1234)\n",
    "# Use a grid over parameters of interest\n",
    "\n",
    "\n",
    "param_grid = {\"batch_size\" : [16, 32, 64, 128],\n",
    "           \"hidden_layer_sizes\" : [(11,), (15,), (19,),(21,)],\n",
    "           \"max_iter\" : [50, 100, 150, 200]}\n",
    " \n",
    "mlp_cv_grid = GridSearchCV(estimator = mlp_grid, param_grid = param_grid, cv = 3,\n",
    "                                scoring = 'accuracy')\n",
    "mlp_cv_grid.fit(X_train, y_train)\n",
    "mlp_cv_grid.best_estimator_"
   ]
  },
  {
   "cell_type": "code",
   "execution_count": 27,
   "metadata": {},
   "outputs": [
    {
     "name": "stdout",
     "output_type": "stream",
     "text": [
      "Train Accuracy  :   0.7281191806331471\n",
      "Test Accuracy   :   0.7445887445887446\n"
     ]
    }
   ],
   "source": [
    "sklearn_mlp_train_preds = mlp_cv_grid.best_estimator_.predict(X_train)\n",
    "sklearn_mlp_test_preds = mlp_cv_grid.best_estimator_.predict(X_test)\n",
    "\n",
    "print(\"Train Accuracy  :  \",accuracy_score(y_train,sklearn_mlp_train_preds))\n",
    "print(\"Test Accuracy   :  \",accuracy_score(y_test,sklearn_mlp_test_preds))"
   ]
  },
  {
   "cell_type": "code",
   "execution_count": null,
   "metadata": {},
   "outputs": [],
   "source": []
  }
 ],
 "metadata": {
  "kernelspec": {
   "display_name": "Python 3",
   "language": "python",
   "name": "python3"
  },
  "language_info": {
   "codemirror_mode": {
    "name": "ipython",
    "version": 3
   },
   "file_extension": ".py",
   "mimetype": "text/x-python",
   "name": "python",
   "nbconvert_exporter": "python",
   "pygments_lexer": "ipython3",
   "version": "3.7.6"
  }
 },
 "nbformat": 4,
 "nbformat_minor": 2
}
